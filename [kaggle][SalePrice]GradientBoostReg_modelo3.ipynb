{
 "cells": [
  {
   "cell_type": "code",
   "execution_count": null,
   "metadata": {},
   "outputs": [],
   "source": [
    "import pandas as pd\n",
    "import numpy as np\n",
    "import seaborn as sns\n",
    "import matplotlib.pyplot as plt\n",
    "%matplotlib inline\n",
    "\n",
    "treino = pd.read_csv('C:/Users/###/train.csv')\n",
    "teste = pd.read_csv('C:/Users/###/test.csv')\n",
    "\n",
    "dtypes = ['int64']\n",
    "df_teste = teste.select_dtypes(include=dtypes)\n",
    "df_teste.columns\n",
    "\n",
    "df_treino = treino.select_dtypes(include=dtypes)\n",
    "df_treino = df_treino[['Id', 'MSSubClass', 'LotArea', 'OverallQual', 'OverallCond',\n",
    "       'YearBuilt', 'YearRemodAdd', '1stFlrSF', '2ndFlrSF', 'LowQualFinSF',\n",
    "       'GrLivArea', 'FullBath', 'HalfBath', 'BedroomAbvGr', 'KitchenAbvGr',\n",
    "       'TotRmsAbvGrd', 'Fireplaces', 'WoodDeckSF', 'OpenPorchSF',\n",
    "       'EnclosedPorch', '3SsnPorch', 'ScreenPorch', 'PoolArea', 'MiscVal',\n",
    "       'MoSold', 'YrSold']]\n",
    "df_treino.head()\n",
    "\n",
    "X = df_treino.drop('Id', axis=1)\n",
    "\n",
    "y = treino.select_dtypes(include=dtypes)\n",
    "y = y['SalePrice']\n",
    "\n",
    "from sklearn.model_selection import train_test_split\n",
    "X_treino, X_teste, y_treino, y_teste = train_test_split(X, y, test_size=.30)\n",
    "\n",
    "from sklearn.ensemble import GradientBoostingRegressor\n",
    "gboost = GradientBoostingRegressor(n_estimators = 1000, loss = 'huber')\n",
    "\n",
    "# FITANDO O MODELO E APLICANDO NA BASE DE TREINO\n",
    "gboost.fit(X_treino, y_treino)\n",
    "pred_treino = gboost.predict(X_teste)\n",
    "\n",
    "# VISUALIZAÇÃO DA PREDIÇÃO\n",
    "plt.figure(figsize=(12,6))\n",
    "plt.scatter(y_teste, pred_treino)\n",
    "\n",
    "# VERIFICANDO A MEDIDA DO ERRO\n",
    "from sklearn.metrics import mean_squared_log_error\n",
    "np.sqrt(mean_squared_log_error(y_teste, pred_treino))\n",
    "\n",
    "# APLICANDO O MODELO NA BASE DE TESTE\n",
    "X_prev = df_teste.drop('Id', axis=1)\n",
    "\n",
    "modelo = gboost.fit(X, y)\n",
    "p = modelo.predict(X_prev)\n",
    "\n",
    "# GERANDO ARQUIVO COM A BASE DE TESTE\n",
    "sub = pd.Series(p, index=teste['Id'], name='SalePrice')\n",
    "\n",
    "sub.to_csv('modelo3.csv', header=True)\n"
   ]
  }
 ],
 "metadata": {
  "kernelspec": {
   "display_name": "Python 3",
   "language": "python",
   "name": "python3"
  },
  "language_info": {
   "codemirror_mode": {
    "name": "ipython",
    "version": 3
   },
   "file_extension": ".py",
   "mimetype": "text/x-python",
   "name": "python",
   "nbconvert_exporter": "python",
   "pygments_lexer": "ipython3",
   "version": "3.7.4"
  }
 },
 "nbformat": 4,
 "nbformat_minor": 2
}
